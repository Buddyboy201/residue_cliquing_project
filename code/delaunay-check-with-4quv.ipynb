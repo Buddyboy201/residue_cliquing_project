{
 "cells": [
  {
   "cell_type": "code",
   "execution_count": 42,
   "metadata": {
    "collapsed": true
   },
   "outputs": [],
   "source": [
    "import os\n",
    "import sys\n",
    "import numpy as np\n",
    "from scipy.spatial.qhull import Delaunay\n",
    "import networkx as nx\n",
    "\n",
    "path = \"/Users/kfraga/Box Sync/SUMMER-PROJECTS-ANISH-2019/protein-clique-analysis/residue_cliquing_project/membrane_pdbs/\"\n",
    "os.chdir(path)"
   ]
  },
  {
   "cell_type": "code",
   "execution_count": 43,
   "metadata": {},
   "outputs": [
    {
     "name": "stdout",
     "output_type": "stream",
     "text": [
      "106.4\n"
     ]
    },
    {
     "data": {
      "text/plain": [
       "numpy.float64"
      ]
     },
     "execution_count": 43,
     "metadata": {},
     "output_type": "execute_result"
    }
   ],
   "source": [
    "s=\"106.4     \"\n",
    "news = np.float64(s)\n",
    "print(news)\n",
    "type(news)"
   ]
  },
  {
   "cell_type": "code",
   "execution_count": 44,
   "metadata": {},
   "outputs": [
    {
     "name": "stdout",
     "output_type": "stream",
     "text": [
      "[[ 23.968  12.972 -10.092]\n",
      " [ 24.031  14.032  -9.095]\n",
      " [ 22.796  14.004  -8.177]\n",
      " ...\n",
      " [ -2.99   22.542 -13.044]\n",
      " [ -2.948  21.157 -13.052]\n",
      " [ -1.857  20.507 -13.581]]\n"
     ]
    }
   ],
   "source": [
    "coords = []\n",
    "atomtores = dict()\n",
    "restoatom = dict()\n",
    "resindex = 0\n",
    "with open(\"4quv.pdb\",'r') as pdb_file:\n",
    "    for line in pdb_file:\n",
    "        if line[0:4] == \"ATOM\":\n",
    "            atomnum = int(line[6:11].strip(\" \"))\n",
    "            residuenum = int(line[22:26].strip(\" \"))\n",
    "            atomtores[atomnum] = residuenum\n",
    "            restoatom[residuenum] = atomnum\n",
    "            coords.append([np.float64(line[30:38].strip(\" \")),\\\n",
    "                               np.float64(line[38:46].strip(\" \")),\\\n",
    "                               np.float64(line[46:54].strip(\" \"))])\n",
    "#print(coords)\n",
    "coords = np.array(coords).reshape((atomnum,3))\n",
    "print(coords)"
   ]
  },
  {
   "cell_type": "code",
   "execution_count": 54,
   "metadata": {},
   "outputs": [
    {
     "data": {
      "text/plain": [
       "21688"
      ]
     },
     "execution_count": 54,
     "metadata": {},
     "output_type": "execute_result"
    }
   ],
   "source": [
    "tri = Delaunay(coords)\n",
    "len(tri.simplices)"
   ]
  },
  {
   "cell_type": "code",
   "execution_count": 34,
   "metadata": {
    "collapsed": true
   },
   "outputs": [],
   "source": [
    "def readpdb(fileobj=None, filepath=None):\n",
    "    if fileobj is None and filepath is None:\n",
    "        raise SyntaxError(\"Need to give file object or path to pdb file\")\n",
    "    elif fileobj:\n",
    "        print(\"woking on object\")\n",
    "    elif filepath:\n",
    "        print(\"reading from file\")\n",
    "        fileobj = open(filepath, 'r')\n",
    "    \n",
    "    # only work on file object"
   ]
  },
  {
   "cell_type": "code",
   "execution_count": 35,
   "metadata": {},
   "outputs": [
    {
     "name": "stdout",
     "output_type": "stream",
     "text": [
      "reading from file\n"
     ]
    }
   ],
   "source": [
    "readpdb(filepath=\"4quv.pdb\")"
   ]
  },
  {
   "cell_type": "code",
   "execution_count": null,
   "metadata": {
    "collapsed": true
   },
   "outputs": [],
   "source": []
  }
 ],
 "metadata": {
  "kernelspec": {
   "display_name": "Python 3",
   "language": "python",
   "name": "python3"
  },
  "language_info": {
   "codemirror_mode": {
    "name": "ipython",
    "version": 3
   },
   "file_extension": ".py",
   "mimetype": "text/x-python",
   "name": "python",
   "nbconvert_exporter": "python",
   "pygments_lexer": "ipython3",
   "version": "3.6.5"
  }
 },
 "nbformat": 4,
 "nbformat_minor": 2
}
