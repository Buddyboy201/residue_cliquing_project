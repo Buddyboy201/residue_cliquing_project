{
 "cells": [
  {
   "cell_type": "code",
   "execution_count": 16,
   "metadata": {},
   "outputs": [],
   "source": [
    "import os\n",
    "import sys\n",
    "import numpy as np\n",
    "from scipy.spatial import Delaunay\n",
    "import networkx as nx\n",
    "\n",
    "path = \"/Users/kfraga/Box Sync/SUMMER-PROJECTS-ANISH-2019/protein-clique-analysis/residue_cliquing_project/membrane_pdbs/\"\n",
    "os.chdir(path)"
   ]
  },
  {
   "cell_type": "code",
   "execution_count": 20,
   "metadata": {},
   "outputs": [
    {
     "name": "stdout",
     "output_type": "stream",
     "text": [
      "362\n",
      "427\n"
     ]
    }
   ],
   "source": [
    "length=0\n",
    "res = \"\"\n",
    "with open(\"4quv.pdb\") as pdb_file:\n",
    "    for line in pdb_file:\n",
    "        if line[0:4] == \"ATOM\":\n",
    "            residue = line[17:20].strip(\" \")\n",
    "            if residue != res:\n",
    "                length = length+1\n",
    "                res = residue\n",
    "            lastid = line[22:26].strip(\" \")\n",
    "\n",
    "print(length)\n",
    "print(lastid)"
   ]
  },
  {
   "cell_type": "code",
   "execution_count": 34,
   "metadata": {},
   "outputs": [],
   "source": [
    "def readpdb(fileobj=None, filepath=None):\n",
    "    if fileobj is None and filepath is None:\n",
    "        raise SyntaxError(\"Need to give file object or path to pdb file\")\n",
    "    elif fileobj:\n",
    "        print(\"woking on object\")\n",
    "    elif filepath:\n",
    "        print(\"reading from file\")\n",
    "        fileobj = open(filepath, 'r')\n",
    "    \n",
    "    # only work on file object"
   ]
  },
  {
   "cell_type": "code",
   "execution_count": 35,
   "metadata": {},
   "outputs": [
    {
     "name": "stdout",
     "output_type": "stream",
     "text": [
      "reading from file\n"
     ]
    }
   ],
   "source": [
    "readpdb(filepath=\"4quv.pdb\")"
   ]
  },
  {
   "cell_type": "code",
   "execution_count": null,
   "metadata": {
    "collapsed": true
   },
   "outputs": [],
   "source": []
  }
 ],
 "metadata": {
  "kernelspec": {
   "display_name": "Python 3",
   "language": "python",
   "name": "python3"
  },
  "language_info": {
   "codemirror_mode": {
    "name": "ipython",
    "version": 3
   },
   "file_extension": ".py",
   "mimetype": "text/x-python",
   "name": "python",
   "nbconvert_exporter": "python",
   "pygments_lexer": "ipython3",
   "version": "3.6.5"
  }
 },
 "nbformat": 4,
 "nbformat_minor": 2
}
